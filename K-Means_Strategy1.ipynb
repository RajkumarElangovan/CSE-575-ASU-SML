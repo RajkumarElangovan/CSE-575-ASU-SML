{
 "cells": [
  {
   "cell_type": "code",
   "execution_count": 73,
   "metadata": {},
   "outputs": [],
   "source": [
    "import pandas as pd\n",
    "import numpy as np\n",
    "import scipy.io\n",
    "import matplotlib.pyplot as plt\n",
    "import random\n",
    "import seaborn"
   ]
  },
  {
   "cell_type": "code",
   "execution_count": 74,
   "metadata": {},
   "outputs": [],
   "source": [
    "#Load the input data\n",
    "data = scipy.io.loadmat(\"C://Users/Home/Downloads/AllSamples.mat\") "
   ]
  },
  {
   "cell_type": "code",
   "execution_count": 75,
   "metadata": {},
   "outputs": [
    {
     "data": {
      "text/html": [
       "<div>\n",
       "<style scoped>\n",
       "    .dataframe tbody tr th:only-of-type {\n",
       "        vertical-align: middle;\n",
       "    }\n",
       "\n",
       "    .dataframe tbody tr th {\n",
       "        vertical-align: top;\n",
       "    }\n",
       "\n",
       "    .dataframe thead th {\n",
       "        text-align: right;\n",
       "    }\n",
       "</style>\n",
       "<table border=\"1\" class=\"dataframe\">\n",
       "  <thead>\n",
       "    <tr style=\"text-align: right;\">\n",
       "      <th></th>\n",
       "      <th>X</th>\n",
       "      <th>Y</th>\n",
       "    </tr>\n",
       "  </thead>\n",
       "  <tbody>\n",
       "    <tr>\n",
       "      <th>0</th>\n",
       "      <td>2.059249</td>\n",
       "      <td>7.205988</td>\n",
       "    </tr>\n",
       "    <tr>\n",
       "      <th>1</th>\n",
       "      <td>8.875781</td>\n",
       "      <td>8.960924</td>\n",
       "    </tr>\n",
       "    <tr>\n",
       "      <th>2</th>\n",
       "      <td>8.007064</td>\n",
       "      <td>2.775320</td>\n",
       "    </tr>\n",
       "    <tr>\n",
       "      <th>3</th>\n",
       "      <td>5.017288</td>\n",
       "      <td>3.763120</td>\n",
       "    </tr>\n",
       "    <tr>\n",
       "      <th>4</th>\n",
       "      <td>6.390562</td>\n",
       "      <td>5.179565</td>\n",
       "    </tr>\n",
       "  </tbody>\n",
       "</table>\n",
       "</div>"
      ],
      "text/plain": [
       "          X         Y\n",
       "0  2.059249  7.205988\n",
       "1  8.875781  8.960924\n",
       "2  8.007064  2.775320\n",
       "3  5.017288  3.763120\n",
       "4  6.390562  5.179565"
      ]
     },
     "execution_count": 75,
     "metadata": {},
     "output_type": "execute_result"
    }
   ],
   "source": [
    "#Load the input into a DataFrame with Columns X and Y\n",
    "dataFrame = pd.DataFrame(data['AllSamples'])\n",
    "df = pd.DataFrame({'X':dataFrame[0],'Y':dataFrame[1]})\n",
    "df.head()"
   ]
  },
  {
   "cell_type": "code",
   "execution_count": 76,
   "metadata": {},
   "outputs": [
    {
     "data": {
      "text/plain": [
       "<AxesSubplot:xlabel='X', ylabel='Y'>"
      ]
     },
     "execution_count": 76,
     "metadata": {},
     "output_type": "execute_result"
    },
    {
     "data": {
      "image/png": "[encoded data removed]",
      "text/plain": [
       "<Figure size 432x288 with 1 Axes>"
      ]
     },
     "metadata": {
      "needs_background": "light"
     },
     "output_type": "display_data"
    }
   ],
   "source": [
    "#visualizing the dataset in scatter plot before clustering\n",
    "df.plot.scatter(x='X',y='Y')"
   ]
  },
  {
   "cell_type": "code",
   "execution_count": 77,
   "metadata": {},
   "outputs": [],
   "source": [
    "#method to calculate sum of squared error\n",
    "def calcSSE(muLst,df,K):\n",
    "    \n",
    "    k = df[K].max()\n",
    "    sseSum=0\n",
    "    X2=np.array(muLst)\n",
    "    \n",
    "    for j in range(1,k+1):\n",
    "        a = df[K]==j\n",
    "        b = df[a]\n",
    "        X1 = np.array(b.iloc[:,0:2])\n",
    "        for i in range(0,len(X1)):\n",
    "            sseSum+= np.sum((X2[j-1] - X1[i])**2)\n",
    "    return sseSum"
   ]
  },
  {
   "cell_type": "code",
   "execution_count": 78,
   "metadata": {},
   "outputs": [],
   "source": [
    "#method to assignClusters after calculating Eucledian distance between a selected centroid and the datapoints\n",
    "def assignCluster(lstEucledianDist):\n",
    "    index = lstEucledianDist.index(min(lstEucledianDist))\n",
    "    return index+1"
   ]
  },
  {
   "cell_type": "code",
   "execution_count": 79,
   "metadata": {},
   "outputs": [],
   "source": [
    "#Objective Function to measure the eucledian distance\n",
    "def eucledianFunction(X2,X1):\n",
    "    \n",
    "    clusterList = [] #list to hold the assigned cluster value after grouping\n",
    "    val = 0\n",
    "    for i in range(0,len(X1)):\n",
    "        dist_list=[] #the list to hold the eucledian distance value of a given datapoint from each of the centroids\n",
    "        for j in range(0,len(X2)):\n",
    "            dist_list.append(np.sqrt(np.sum((X2[j] - X1[i])**2)))\n",
    "        clusterList.append(assignCluster(dist_list))\n",
    "    return clusterList"
   ]
  },
  {
   "cell_type": "code",
   "execution_count": 80,
   "metadata": {},
   "outputs": [
    {
     "name": "stdout",
     "output_type": "stream",
     "text": [
      "\n",
      " Iteration : 1\n",
      "\n",
      " Clustering for K = 2\n",
      "\n",
      " Clustering for K = 3\n",
      "\n",
      " Clustering for K = 4\n",
      "\n",
      " Clustering for K = 5\n",
      "\n",
      " Clustering for K = 6\n",
      "\n",
      " Clustering for K = 7\n",
      "\n",
      " Clustering for K = 8\n",
      "\n",
      " Clustering for K = 9\n",
      "\n",
      " Clustering for K = 10\n",
      "\n",
      " The DataFrame after cluster assignment\n",
      "\n",
      "            X         Y  K=2  K=3  K=4  K=5  K=6  K=7  K=8  K=9  K=10\n",
      "0    2.059249  7.205988    1    2    2    2    1    7    6    5     3\n",
      "1    8.875781  8.960924    1    2    1    5    5    3    8    4    10\n",
      "2    8.007064  2.775320    2    1    3    1    3    2    3    3     5\n",
      "3    5.017288  3.763120    2    3    4    3    2    4    2    1     7\n",
      "4    6.390562  5.179565    1    2    1    5    2    4    1    2     2\n",
      "..        ...       ...  ...  ...  ...  ...  ...  ...  ...  ...   ...\n",
      "295  4.783632  7.106443    1    2    2    2    1    1    1    2     8\n",
      "296  2.646830  6.323443    1    2    2    2    1    7    6    7     3\n",
      "297  4.322397  0.330889    2    3    4    4    6    6    4    8     1\n",
      "298  2.364303  1.052097    2    3    4    4    6    6    4    8     1\n",
      "299  7.785513  3.127245    2    1    3    1    3    2    3    3     5\n",
      "\n",
      "[300 rows x 11 columns]\n",
      "\n",
      " The Cluster value and its corresponding Sum of Squared Error values\n",
      "\n",
      "    K   SSE\n",
      "0   2  1921\n",
      "1   3  1338\n",
      "2   4   789\n",
      "3   5   653\n",
      "4   6   498\n",
      "5   7   387\n",
      "6   8   317\n",
      "7   9   258\n",
      "8  10   224\n",
      "\n",
      " The elbow plot for iteration 1 is shown at the bottom\n",
      "\n",
      " Iteration : 2\n",
      "\n",
      " Clustering for K = 2\n",
      "\n",
      " Clustering for K = 3\n",
      "\n",
      " Clustering for K = 4\n",
      "\n",
      " Clustering for K = 5\n",
      "\n",
      " Clustering for K = 6\n",
      "\n",
      " Clustering for K = 7\n",
      "\n",
      " Clustering for K = 8\n",
      "\n",
      " Clustering for K = 9\n",
      "\n",
      " Clustering for K = 10\n",
      "\n",
      " The DataFrame after cluster assignment\n",
      "\n",
      "            X         Y  K=2  K=3  K=4  K=5  K=6  K=7  K=8  K=9  K=10\n",
      "0    2.059249  7.205988    2    1    4    1    1    3    8    1     6\n",
      "1    8.875781  8.960924    2    2    1    4    6    5    4    2     1\n",
      "2    8.007064  2.775320    1    3    2    5    2    4    1    6     9\n",
      "3    5.017288  3.763120    1    3    2    2    4    1    7    3     4\n",
      "4    6.390562  5.179565    2    2    2    3    3    2    7    8     7\n",
      "..        ...       ...  ...  ...  ...  ...  ...  ...  ...  ...   ...\n",
      "295  4.783632  7.106443    2    2    4    3    3    7    6    9    10\n",
      "296  2.646830  6.323443    2    1    4    1    1    3    8    1     6\n",
      "297  4.322397  0.330889    1    3    3    2    5    6    2    4     3\n",
      "298  2.364303  1.052097    1    3    3    2    5    6    2    4     3\n",
      "299  7.785513  3.127245    1    3    2    5    2    4    1    6     9\n",
      "\n",
      "[300 rows x 11 columns]\n",
      "\n",
      " The Cluster value and its corresponding Sum of Squared Error values\n",
      "\n",
      "    K   SSE\n",
      "0   2  1921\n",
      "1   3  1294\n",
      "2   4   803\n",
      "3   5   613\n",
      "4   6   476\n",
      "5   7   397\n",
      "6   8   313\n",
      "7   9   241\n",
      "8  10   327\n",
      "\n",
      " The elbow plot for iteration 2 is shown at the bottom\n"
     ]
    },
    {
     "data": {
      "image/png": "[encoded data removed]",
      "text/plain": [
       "<Figure size 432x288 with 1 Axes>"
      ]
     },
     "metadata": {
      "needs_background": "light"
     },
     "output_type": "display_data"
    },
    {
     "data": {
      "image/png": "[encoded data removed]",
      "text/plain": [
       "<Figure size 432x288 with 1 Axes>"
      ]
     },
     "metadata": {
      "needs_background": "light"
     },
     "output_type": "display_data"
    }
   ],
   "source": [
    "#getCentroidValues for two different random initialization\n",
    "\n",
    "for iter in range(0,2): #two iterations\n",
    "    \n",
    "    print(\"\\n Iteration : \"+str(iter+1))\n",
    "    df = pd.DataFrame({'X':dataFrame[0],'Y':dataFrame[1]})\n",
    "    X = np.array(df) #Convert df to array for calculation purpose\n",
    "    muList=[] #Declare a list to hold the Sum of Squared error values\n",
    "    \n",
    "    #iterate from K=2 to 10\n",
    "    for k in range(2,11): \n",
    "        \n",
    "        print(\"\\n Clustering for K = \"+ str(k))\n",
    "        \n",
    "        randomCentroidList = []\n",
    "        centroidList = []\n",
    "        centroidArr = []\n",
    "        Kval = \"K=\"+ str(k)\n",
    "    \n",
    "        #Pick random indices from the dataframe df based on the value of K and store them in a list\n",
    "        centroid_index = random.sample(range(0, len(df)), k)\n",
    "        \n",
    "        #Assign the data points corresponding to the random indices as Centroids\n",
    "        for i in centroid_index:\n",
    "            randomCentroidList.append(df.iloc[i,0:2])\n",
    "        centroid = np.array(randomCentroidList) #Convert initial centroid list to array for calculation purpose\n",
    "    \n",
    "        #re-iterate the objective function calculation till the centroids converge\n",
    "        #Condition checks if the previous centroid Array(denoted by centroidArr) is equal to current centroid Array(denoted by centroid)\n",
    "        while(np.array_equal(centroid,centroidArr)==False):\n",
    "            \n",
    "            df[Kval] = eucledianFunction(centroid,X)\n",
    "            centroidList = []\n",
    "            for j in range(1,k+1):\n",
    "                a = df[Kval]==j\n",
    "                b = df[a]                \n",
    "                centroidList.append([np.mean(b['X']),np.mean(b['Y'])]) #calculate the mean of current centroid and store it in the object centroidList\n",
    "            centroidArr = np.array(centroidList) #Convert new set of centroid lists to array for calculation purpose\n",
    "            \n",
    "            #Swap previous centroid value with current centroid values\n",
    "            temp = centroid\n",
    "            centroid = centroidArr\n",
    "            centroidArr = temp\n",
    "        muList.append(centroidArr) #The list contains the final centroid values for each value of K i.e. K=2,3,...10\n",
    "    \n",
    "    \n",
    "    print(\"\\n The DataFrame after cluster assignment\")\n",
    "    print(\"\\n\" +str(df))\n",
    "    \n",
    "    #DataFrame to hold the value of K and the corresponding SSE value\n",
    "    dfPlot = pd.DataFrame({'K':range(2,11),'SSE':0}) \n",
    "    \n",
    "    \n",
    "    \n",
    "    #Calculate the SumOfSquaredError from the final list of clusters\n",
    "    for i in range(0,len(muList)):\n",
    "        K='K='+str(i+2)\n",
    "        dfPlot['SSE'][i] = calcSSE(muList[i],df,K)\n",
    "    \n",
    "    print(\"\\n The Cluster value and its corresponding Sum of Squared Error values\")\n",
    "    print(\"\\n\"+str(dfPlot))\n",
    "    \n",
    "    #Plot the elbow plot\n",
    "    print(\"\\n The elbow plot for iteration \"+str(iter+1)+\" is shown at the bottom\")\n",
    "    dfPlot.plot.line(x='K',y='SSE',title=(\"Elbow Plot for Iteration \"+ str(iter+1)))\n",
    "    "
   ]
  }
 ],
 "metadata": {
  "kernelspec": {
   "display_name": "Python 3",
   "language": "python",
   "name": "python3"
  },
  "language_info": {
   "codemirror_mode": {
    "name": "ipython",
    "version": 3
   },
   "file_extension": ".py",
   "mimetype": "text/x-python",
   "name": "python",
   "nbconvert_exporter": "python",
   "pygments_lexer": "ipython3",
   "version": "3.8.5"
  }
 },
 "nbformat": 4,
 "nbformat_minor": 4
}
